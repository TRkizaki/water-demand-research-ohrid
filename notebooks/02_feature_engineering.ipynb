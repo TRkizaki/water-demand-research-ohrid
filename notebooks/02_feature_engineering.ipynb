{
 "cells": [
  {
   "cell_type": "markdown",
   "metadata": {},
   "source": [
    "# Ohrid Water Demand - Feature Engineering\n",
    "\n",
    "This notebook demonstrates comprehensive feature engineering for water demand prediction in Ohrid, North Macedonia.\n",
    "\n",
    "## Objectives\n",
    "- Create temporal features (hour, day, season)\n",
    "- Engineer weather-based features\n",
    "- Generate tourism-specific features\n",
    "- Build lag and rolling window features\n",
    "- Create interaction features\n",
    "- Validate feature importance"
   ]
  },
  {
   "cell_type": "code",
   "execution_count": null,
   "metadata": {},
   "outputs": [],
   "source": [
    "import pandas as pd\n",
    "import numpy as np\n",
    "import matplotlib.pyplot as plt\n",
    "import seaborn as sns\n",
    "from datetime import datetime\n",
    "import sys\n",
    "sys.path.append('../src')\n",
    "\n",
    "from data_collectors.ohrid_synthetic_generator import OhridWaterDemandGenerator\n",
    "\n",
    "print(\"Feature Engineering for Ohrid Water Demand Research\")\n",
    "print(\"=\" * 60)"
   ]
  },
  {
   "cell_type": "markdown",
   "metadata": {},
   "source": [
    "## 1. Load Base Dataset"
   ]
  },
  {
   "cell_type": "code",
   "execution_count": null,
   "metadata": {},
   "outputs": [],
   "source": [
    "# Load synthetic data\n",
    "df = pd.read_csv('../data/raw/ohrid_synthetic_water_demand.csv')\n",
    "df['timestamp'] = pd.to_datetime(df['timestamp'])\n",
    "df.set_index('timestamp', inplace=True)\n",
    "\n",
    "print(f\"Dataset shape: {df.shape}\")\n",
    "print(f\"Date range: {df.index.min()} to {df.index.max()}\")\n",
    "df.head()"
   ]
  },
  {
   "cell_type": "markdown",
   "metadata": {},
   "source": [
    "## 2. Temporal Feature Engineering"
   ]
  },
  {
   "cell_type": "code",
   "execution_count": null,
   "metadata": {},
   "outputs": [],
   "source": [
    "# Advanced temporal features\n",
    "df['hour_sin'] = np.sin(2 * np.pi * df['hour'] / 24)\n",
    "df['hour_cos'] = np.cos(2 * np.pi * df['hour'] / 24)\n",
    "df['day_sin'] = np.sin(2 * np.pi * df['day_of_week'] / 7)\n",
    "df['day_cos'] = np.cos(2 * np.pi * df['day_of_week'] / 7)\n",
    "df['month_sin'] = np.sin(2 * np.pi * df['month'] / 12)\n",
    "df['month_cos'] = np.cos(2 * np.pi * df['month'] / 12)\n",
    "\n",
    "# Season encoding\n",
    "df['season'] = df['month'].map({12: 'winter', 1: 'winter', 2: 'winter',\n",
    "                                3: 'spring', 4: 'spring', 5: 'spring',\n",
    "                                6: 'summer', 7: 'summer', 8: 'summer',\n",
    "                                9: 'autumn', 10: 'autumn', 11: 'autumn'})\n",
    "\n",
    "# Peak hours identification\n",
    "df['is_morning_peak'] = ((df['hour'] >= 6) & (df['hour'] <= 8)).astype(int)\n",
    "df['is_evening_peak'] = ((df['hour'] >= 18) & (df['hour'] <= 21)).astype(int)\n",
    "df['is_night_minimum'] = ((df['hour'] >= 23) | (df['hour'] <= 5)).astype(int)\n",
    "\n",
    "print(\"Temporal features created:\")\n",
    "temporal_features = ['hour_sin', 'hour_cos', 'day_sin', 'day_cos', 'month_sin', 'month_cos', \n",
    "                    'season', 'is_morning_peak', 'is_evening_peak', 'is_night_minimum']\n",
    "print(temporal_features)"
   ]
  },
  {
   "cell_type": "markdown",
   "metadata": {},
   "source": [
    "## 3. Weather Feature Engineering"
   ]
  },
  {
   "cell_type": "code",
   "execution_count": null,
   "metadata": {},
   "outputs": [],
   "source": [
    "# Temperature features\n",
    "df['temp_above_25'] = (df['temperature'] > 25).astype(int)\n",
    "df['temp_below_5'] = (df['temperature'] < 5).astype(int)\n",
    "df['temp_comfort_zone'] = ((df['temperature'] >= 18) & (df['temperature'] <= 25)).astype(int)\n",
    "\n",
    "# Precipitation features\n",
    "df['is_raining'] = (df['precipitation'] > 0.1).astype(int)\n",
    "df['heavy_rain'] = (df['precipitation'] > 5.0).astype(int)\n",
    "\n",
    "# Humidity categories\n",
    "df['humidity_low'] = (df['humidity'] < 40).astype(int)\n",
    "df['humidity_high'] = (df['humidity'] > 80).astype(int)\n",
    "\n",
    "# Weather comfort index\n",
    "df['weather_comfort'] = (\n",
    "    df['temp_comfort_zone'] * 0.4 +\n",
    "    (1 - df['is_raining']) * 0.3 +\n",
    "    ((df['humidity'] >= 40) & (df['humidity'] <= 70)).astype(int) * 0.3\n",
    ")\n",
    "\n",
    "print(\"Weather features created:\")\n",
    "weather_features = ['temp_above_25', 'temp_below_5', 'temp_comfort_zone', \n",
    "                   'is_raining', 'heavy_rain', 'humidity_low', 'humidity_high', 'weather_comfort']\n",
    "print(weather_features)"
   ]
  },
  {
   "cell_type": "markdown",
   "metadata": {},
   "source": [
    "## 4. Tourism Feature Engineering"
   ]
  },
  {
   "cell_type": "code",
   "execution_count": null,
   "metadata": {},
   "outputs": [],
   "source": [
    "# Tourism intensity levels\n",
    "df['tourism_low'] = (df['tourists_estimated'] < 1000).astype(int)\n",
    "df['tourism_medium'] = ((df['tourists_estimated'] >= 1000) & (df['tourists_estimated'] < 3000)).astype(int)\n",
    "df['tourism_high'] = (df['tourists_estimated'] >= 3000).astype(int)\n",
    "\n",
    "# Tourism pressure index\n",
    "df['tourism_pressure'] = df['tourists_estimated'] / df['population']\n",
    "\n",
    "# Weekend tourism boost\n",
    "df['weekend_tourism_boost'] = (df['is_weekend'] & df['is_tourist_season']).astype(int)\n",
    "\n",
    "# Festival impact\n",
    "df['festival_tourism_impact'] = (df['is_festival_period'] * df['tourism_multiplier'])\n",
    "\n",
    "print(\"Tourism features created:\")\n",
    "tourism_features = ['tourism_low', 'tourism_medium', 'tourism_high', \n",
    "                   'tourism_pressure', 'weekend_tourism_boost', 'festival_tourism_impact']\n",
    "print(tourism_features)"
   ]
  },
  {
   "cell_type": "markdown",
   "metadata": {},
   "source": [
    "## 5. Lag and Rolling Features"
   ]
  },
  {
   "cell_type": "code",
   "execution_count": null,
   "metadata": {},
   "outputs": [],
   "source": [
    "# Lag features for water demand\n",
    "target_col = 'water_demand_m3_per_hour'\n",
    "lag_periods = [1, 2, 7, 14, 30]  # hours\n",
    "\n",
    "for lag in lag_periods:\n",
    "    df[f'{target_col}_lag_{lag}h'] = df[target_col].shift(lag)\n",
    "\n",
    "# Rolling window features\n",
    "rolling_windows = [24, 168, 720]  # 1 day, 1 week, 1 month in hours\n",
    "\n",
    "for window in rolling_windows:\n",
    "    df[f'{target_col}_rolling_mean_{window}h'] = df[target_col].rolling(window=window, min_periods=1).mean()\n",
    "    df[f'{target_col}_rolling_std_{window}h'] = df[target_col].rolling(window=window, min_periods=1).std()\n",
    "    df[f'{target_col}_rolling_min_{window}h'] = df[target_col].rolling(window=window, min_periods=1).min()\n",
    "    df[f'{target_col}_rolling_max_{window}h'] = df[target_col].rolling(window=window, min_periods=1).max()\n",
    "\n",
    "# Lag features for weather\n",
    "df['temperature_lag_1h'] = df['temperature'].shift(1)\n",
    "df['precipitation_lag_1h'] = df['precipitation'].shift(1)\n",
    "\n",
    "print(\"Lag and rolling features created:\")\n",
    "lag_features = [col for col in df.columns if 'lag_' in col or 'rolling_' in col]\n",
    "print(f\"Total lag/rolling features: {len(lag_features)}\")"
   ]
  },
  {
   "cell_type": "markdown",
   "metadata": {},
   "source": [
    "## 6. Interaction Features"
   ]
  },
  {
   "cell_type": "code",
   "execution_count": null,
   "metadata": {},
   "outputs": [],
   "source": [
    "# Weather × Tourism interactions\n",
    "df['temp_tourism_interaction'] = df['temperature'] * df['tourism_pressure']\n",
    "df['rain_tourism_interaction'] = df['is_raining'] * df['tourists_estimated']\n",
    "\n",
    "# Time × Season interactions\n",
    "df['hour_season_interaction'] = df['hour'] * df['tourism_multiplier']\n",
    "df['weekend_season_interaction'] = df['is_weekend'] * df['seasonal_multiplier']\n",
    "\n",
    "# Weather × Time interactions\n",
    "df['temp_hour_interaction'] = df['temperature'] * df['hour']\n",
    "df['rain_weekend_interaction'] = df['is_raining'] * df['is_weekend']\n",
    "\n",
    "print(\"Interaction features created:\")\n",
    "interaction_features = ['temp_tourism_interaction', 'rain_tourism_interaction',\n",
    "                       'hour_season_interaction', 'weekend_season_interaction',\n",
    "                       'temp_hour_interaction', 'rain_weekend_interaction']\n",
    "print(interaction_features)"
   ]
  },
  {
   "cell_type": "markdown",
   "metadata": {},
   "source": [
    "## 7. Feature Summary and Export"
   ]
  },
  {
   "cell_type": "code",
   "execution_count": null,
   "metadata": {},
   "outputs": [],
   "source": [
    "# Calculate total features\n",
    "all_new_features = temporal_features + weather_features + tourism_features + lag_features + interaction_features\n",
    "\n",
    "print(f\"\\nFeature Engineering Summary:\")\n",
    "print(f\"Original features: {df.shape[1] - len(all_new_features)}\")\n",
    "print(f\"New engineered features: {len(all_new_features)}\")\n",
    "print(f\"Total features: {df.shape[1]}\")\n",
    "\n",
    "# Remove any features with all NaN values\n",
    "df_clean = df.dropna(axis=1, how='all')\n",
    "\n",
    "# Save engineered features\n",
    "output_path = '../data/features/ohrid_features_complete.csv'\n",
    "df_clean.to_csv(output_path)\n",
    "print(f\"\\nFeatures saved to: {output_path}\")\n",
    "print(f\"Final dataset shape: {df_clean.shape}\")\n",
    "\n",
    "# Display feature correlation with target\n",
    "numeric_cols = df_clean.select_dtypes(include=[np.number]).columns\n",
    "correlations = df_clean[numeric_cols].corr()[target_col].abs().sort_values(ascending=False)\n",
    "\n",
    "print(\"\\nTop 15 features by correlation with water demand:\")\n",
    "print(correlations.head(15))"
   ]
  }
 ],
 "metadata": {
  "kernelspec": {
   "display_name": "Python 3",
   "language": "python",
   "name": "python3"
  },
  "language_info": {
   "codemirror_mode": {
    "name": "ipython",
    "version": 3
   },
   "file_extension": ".py",
   "mimetype": "text/x-python",
   "name": "python",
   "nbconvert_exporter": "python",
   "pygments_lexer": "ipython3",
   "version": "3.8.0"
  }
 },
 "nbformat": 4,
 "nbformat_minor": 4
}