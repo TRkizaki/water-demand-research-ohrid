{
 "cells": [
  {
   "cell_type": "markdown",
   "metadata": {},
   "source": [
    "# Ohrid Water Demand - Model Experiments\n",
    "\n",
    "Comprehensive model experimentation and comparison for water demand prediction.\n",
    "\n",
    "## Models Evaluated\n",
    "- Traditional Time Series: ARIMA, SARIMA, ETS\n",
    "- Machine Learning: Random Forest, XGBoost, LightGBM\n",
    "- Deep Learning: LSTM, Neural Networks\n",
    "- Hybrid Ensemble: Combined approach"
   ]
  },
  {
   "cell_type": "code",
   "execution_count": null,
   "metadata": {},
   "outputs": [],
   "source": [
    "import pandas as pd\n",
    "import numpy as np\n",
    "import matplotlib.pyplot as plt\n",
    "import seaborn as sns\n",
    "from sklearn.model_selection import train_test_split, cross_val_score\n",
    "from sklearn.metrics import mean_absolute_error, mean_squared_error, r2_score\n",
    "import sys\n",
    "sys.path.append('../src')\n",
    "\n",
    "from models.ohrid_predictor import OhridWaterDemandPredictor\n",
    "\n",
    "print(\"Model Experiments for Ohrid Water Demand Prediction\")\n",
    "print(\"=\" * 60)"
   ]
  },
  {
   "cell_type": "markdown",
   "metadata": {},
   "source": [
    "## 1. Load Engineered Features"
   ]
  },
  {
   "cell_type": "code",
   "execution_count": null,
   "metadata": {},
   "outputs": [],
   "source": [
    "# Load feature-engineered dataset\n",
    "df = pd.read_csv('../data/features/ohrid_features_complete.csv', index_col=0, parse_dates=True)\n",
    "\n",
    "print(f\"Dataset shape: {df.shape}\")\n",
    "print(f\"Features available: {df.shape[1]}\")\n",
    "print(f\"Target variable: water_demand_m3_per_hour\")\n",
    "\n",
    "# Check for missing values\n",
    "missing_data = df.isnull().sum()\n",
    "print(f\"\\nMissing values: {missing_data.sum()} total\")"
   ]
  },
  {
   "cell_type": "markdown",
   "metadata": {},
   "source": [
    "## 2. Data Preparation"
   ]
  },
  {
   "cell_type": "code",
   "execution_count": null,
   "metadata": {},
   "outputs": [],
   "source": [
    "# Initialize predictor\n",
    "predictor = OhridWaterDemandPredictor()\n",
    "\n",
    "# Prepare data for modeling\n",
    "X_train, X_val, X_test, y_train, y_val, y_test, features = predictor.prepare_data_for_modeling(df)\n",
    "\n",
    "print(f\"Training set: {X_train.shape}\")\n",
    "print(f\"Validation set: {X_val.shape}\")\n",
    "print(f\"Test set: {X_test.shape}\")\n",
    "print(f\"Features used: {len(features)}\")\n",
    "\n",
    "# Display target variable statistics\n",
    "print(f\"\\nTarget variable statistics:\")\n",
    "print(f\"Mean: {y_train.mean():.2f} m³/hour\")\n",
    "print(f\"Std: {y_train.std():.2f} m³/hour\")\n",
    "print(f\"Range: {y_train.min():.2f} - {y_train.max():.2f} m³/hour\")"
   ]
  },
  {
   "cell_type": "markdown",
   "metadata": {},
   "source": [
    "## 3. Traditional Time Series Models"
   ]
  },
  {
   "cell_type": "code",
   "execution_count": null,
   "metadata": {},
   "outputs": [],
   "source": [
    "print(\"Training Traditional Time Series Models...\")\n",
    "print(\"-\" * 50)\n",
    "\n",
    "# ARIMA models\n",
    "arima_models = predictor.fit_arima_models(y_train)\n",
    "print(f\"ARIMA models trained: {len(arima_models)}\")\n",
    "\n",
    "# Exponential Smoothing\n",
    "ets_models = predictor.fit_exponential_smoothing(y_train)\n",
    "print(f\"ETS models trained: {len(ets_models)}\")\n",
    "\n",
    "# Store all time series models\n",
    "ts_models = {**arima_models, **ets_models}\n",
    "print(f\"Total time series models: {len(ts_models)}\")"
   ]
  },
  {
   "cell_type": "markdown",
   "metadata": {},
   "source": [
    "## 4. Machine Learning Models"
   ]
  },
  {
   "cell_type": "code",
   "execution_count": null,
   "metadata": {},
   "outputs": [],
   "source": [
    "print(\"Training Machine Learning Models...\")\n",
    "print(\"-\" * 50)\n",
    "\n",
    "# Train ML models\n",
    "ml_models = predictor.fit_machine_learning_models(X_train, y_train, X_val, y_val)\n",
    "print(f\"ML models trained: {len(ml_models)}\")\n",
    "\n",
    "# Display feature importance for tree-based models\n",
    "if 'RandomForest' in predictor.feature_importance:\n",
    "    rf_importance = predictor.feature_importance['RandomForest']\n",
    "    top_features = sorted(rf_importance.items(), key=lambda x: x[1], reverse=True)[:10]\n",
    "    \n",
    "    print(\"\\nTop 10 features (Random Forest):\")\n",
    "    for feature, importance in top_features:\n",
    "        print(f\"  {feature}: {importance:.4f}\")"
   ]
  },
  {
   "cell_type": "markdown",
   "metadata": {},
   "source": [
    "## 5. Deep Learning Models"
   ]
  },
  {
   "cell_type": "code",
   "execution_count": null,
   "metadata": {},
   "outputs": [],
   "source": [
    "print(\"Training Deep Learning Models...\")\n",
    "print(\"-\" * 50)\n",
    "\n",
    "# Train deep learning models\n",
    "dl_models = predictor.fit_deep_learning_models(X_train, y_train, X_val, y_val)\n",
    "print(f\"Deep learning models trained: {len(dl_models)}\")\n",
    "\n",
    "# Combine all models\n",
    "all_models = {**ts_models, **ml_models, **dl_models}\n",
    "print(f\"\\nTotal models trained: {len(all_models)}\")"
   ]
  },
  {
   "cell_type": "markdown",
   "metadata": {},
   "source": [
    "## 6. Hybrid Ensemble Model"
   ]
  },
  {
   "cell_type": "code",
   "execution_count": null,
   "metadata": {},
   "outputs": [],
   "source": [
    "print(\"Creating Hybrid Ensemble Model...\")\n",
    "print(\"-\" * 50)\n",
    "\n",
    "# Create ensemble\n",
    "ensemble_models = predictor.create_hybrid_ensemble(X_train, y_train)\n",
    "print(f\"Ensemble models created: {len(ensemble_models)}\")\n",
    "\n",
    "# Update model collection\n",
    "all_models.update(ensemble_models)\n",
    "print(f\"Final model count: {len(all_models)}\")"
   ]
  },
  {
   "cell_type": "markdown",
   "metadata": {},
   "source": [
    "## 7. Model Evaluation"
   ]
  },
  {
   "cell_type": "code",
   "execution_count": null,
   "metadata": {},
   "outputs": [],
   "source": [
    "print(\"Evaluating All Models...\")\n",
    "print(\"-\" * 50)\n",
    "\n",
    "# Evaluate models\n",
    "results = predictor.evaluate_models(X_test, y_test)\n",
    "\n",
    "# Create results DataFrame\n",
    "results_df = pd.DataFrame(results).T\n",
    "results_df = results_df.round(4)\n",
    "\n",
    "# Sort by MAE (lower is better)\n",
    "results_df_sorted = results_df.sort_values('MAE')\n",
    "\n",
    "print(\"\\nModel Performance Comparison:\")\n",
    "print(results_df_sorted)\n",
    "\n",
    "# Identify best model\n",
    "best_model = results_df_sorted.index[0]\n",
    "best_mae = results_df_sorted.loc[best_model, 'MAE']\n",
    "best_r2 = results_df_sorted.loc[best_model, 'R2']\n",
    "\n",
    "print(f\"\\nBest Model: {best_model}\")\n",
    "print(f\"Best MAE: {best_mae:.4f} m³/hour\")\n",
    "print(f\"Best R²: {best_r2:.4f}\")"
   ]
  },
  {
   "cell_type": "markdown",
   "metadata": {},
   "source": [
    "## 8. Model Comparison Visualization"
   ]
  },
  {
   "cell_type": "code",
   "execution_count": null,
   "metadata": {},
   "outputs": [],
   "source": [
    "# Performance comparison plot\n",
    "fig, axes = plt.subplots(2, 2, figsize=(15, 10))\n",
    "\n",
    "# MAE comparison\n",
    "axes[0,0].bar(range(len(results_df_sorted)), results_df_sorted['MAE'])\n",
    "axes[0,0].set_title('Mean Absolute Error (MAE)')\n",
    "axes[0,0].set_ylabel('MAE (m³/hour)')\n",
    "axes[0,0].set_xticks(range(len(results_df_sorted)))\n",
    "axes[0,0].set_xticklabels(results_df_sorted.index, rotation=45)\n",
    "\n",
    "# RMSE comparison\n",
    "axes[0,1].bar(range(len(results_df_sorted)), results_df_sorted['RMSE'])\n",
    "axes[0,1].set_title('Root Mean Square Error (RMSE)')\n",
    "axes[0,1].set_ylabel('RMSE (m³/hour)')\n",
    "axes[0,1].set_xticks(range(len(results_df_sorted)))\n",
    "axes[0,1].set_xticklabels(results_df_sorted.index, rotation=45)\n",
    "\n",
    "# R² comparison\n",
    "axes[1,0].bar(range(len(results_df_sorted)), results_df_sorted['R2'])\n",
    "axes[1,0].set_title('R² Score')\n",
    "axes[1,0].set_ylabel('R² Score')\n",
    "axes[1,0].set_xticks(range(len(results_df_sorted)))\n",
    "axes[1,0].set_xticklabels(results_df_sorted.index, rotation=45)\n",
    "\n",
    "# MAPE comparison\n",
    "axes[1,1].bar(range(len(results_df_sorted)), results_df_sorted['MAPE'])\n",
    "axes[1,1].set_title('Mean Absolute Percentage Error (MAPE)')\n",
    "axes[1,1].set_ylabel('MAPE (%)')\n",
    "axes[1,1].set_xticks(range(len(results_df_sorted)))\n",
    "axes[1,1].set_xticklabels(results_df_sorted.index, rotation=45)\n",
    "\n",
    "plt.tight_layout()\n",
    "plt.savefig('../results/model_comparison.png', dpi=300, bbox_inches='tight')\n",
    "plt.show()"
   ]
  },
  {
   "cell_type": "markdown",
   "metadata": {},
   "source": [
    "## 9. Save Experiment Results"
   ]
  },
  {
   "cell_type": "code",
   "execution_count": null,
   "metadata": {},
   "outputs": [],
   "source": [
    "# Save results\n",
    "results_df.to_csv('../results/model_experiment_results.csv')\n",
    "print(\"Results saved to: ../results/model_experiment_results.csv\")\n",
    "\n",
    "# Create experiment summary\n",
    "experiment_summary = {\n",
    "    'experiment_date': pd.Timestamp.now(),\n",
    "    'dataset_size': len(df),\n",
    "    'features_count': len(features),\n",
    "    'models_tested': len(all_models),\n",
    "    'best_model': best_model,\n",
    "    'best_mae': best_mae,\n",
    "    'best_r2': best_r2,\n",
    "    'data_source': 'synthetic'\n",
    "}\n",
    "\n",
    "summary_df = pd.DataFrame([experiment_summary])\n",
    "summary_df.to_csv('../results/experiment_summary.csv', index=False)\n",
    "print(\"Summary saved to: ../results/experiment_summary.csv\")\n",
    "\n",
    "print(f\"\\nExperiment completed successfully!\")\n",
    "print(f\"Best performing model: {best_model}\")\n",
    "print(f\"Ready for production deployment.\")"
   ]
  }
 ],
 "metadata": {
  "kernelspec": {
   "display_name": "Python 3",
   "language": "python",
   "name": "python3"
  },
  "language_info": {
   "codemirror_mode": {
    "name": "ipython",
    "version": 3
   },
   "file_extension": ".py",
   "mimetype": "text/x-python",
   "name": "python",
   "nbconvert_exporter": "python",
   "pygments_lexer": "ipython3",
   "version": "3.8.0"
  }
 },
 "nbformat": 4,
 "nbformat_minor": 4
}